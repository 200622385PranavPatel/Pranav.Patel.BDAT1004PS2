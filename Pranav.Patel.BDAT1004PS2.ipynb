{
 "cells": [
  {
   "cell_type": "markdown",
   "id": "f2b9d33d",
   "metadata": {},
   "source": [
    "# Problem Set 2"
   ]
  },
  {
   "cell_type": "markdown",
   "id": "5f658860",
   "metadata": {},
   "source": [
    "## Question 1\n",
    "### Consider the following Python module:"
   ]
  },
  {
   "cell_type": "code",
   "execution_count": 1,
   "id": "ad66f674",
   "metadata": {},
   "outputs": [],
   "source": [
    "a = 0\n",
    "def b():\n",
    " global a\n",
    " a = c(a)\n",
    "def c(a):\n",
    " return a + 2"
   ]
  },
  {
   "cell_type": "code",
   "execution_count": 2,
   "id": "ce50f0f4",
   "metadata": {},
   "outputs": [
    {
     "data": {
      "text/plain": [
       "6"
      ]
     },
     "execution_count": 2,
     "metadata": {},
     "output_type": "execute_result"
    }
   ],
   "source": [
    "b()\n",
    "b()\n",
    "b()\n",
    "a"
   ]
  },
  {
   "cell_type": "markdown",
   "id": "2c5daa41",
   "metadata": {},
   "source": [
    "### What value is displayed when the last expression (a) is evaluated? Explain your answer by indicating what happens in every executed statement. ?"
   ]
  },
  {
   "cell_type": "markdown",
   "id": "8df49ca4",
   "metadata": {},
   "source": [
    "## Answer 1"
   ]
  },
  {
   "cell_type": "markdown",
   "id": "15647ff1",
   "metadata": {},
   "source": [
    "### Value \"6\" is displayed when the last expression is evaluated.\n",
    "\n",
    "### This result is achieved through a series of function calls. Initially, the variable 'a' is set to 0. When the function b() is called for the first time, it invokes c(0), which adds 2 to 0, updating 'a' to 2. The second call to b() triggers c(2), adding 2 to the current value of 'a', making it 4. Finally, the third call to b() executes c(4), again adding 2, resulting in 'a' becoming 6. In essence, each call to b() increments 'a' by 2. So, after calling b() three times, a ends up as 6. "
   ]
  },
  {
   "cell_type": "markdown",
   "id": "7458b259",
   "metadata": {},
   "source": [
    "## Question 2\n",
    "### Function fileLength(), given to you, takes the name of a file as input and returns the length of the file"
   ]
  },
  {
   "cell_type": "code",
   "execution_count": 65,
   "id": "7193a773",
   "metadata": {},
   "outputs": [],
   "source": [
    "def file_length(file_name):\n",
    "    file = open(file_name)\n",
    "    contents = file.read()\n",
    "    file.close()\n",
    "    print(len(contents))"
   ]
  },
  {
   "cell_type": "code",
   "execution_count": 66,
   "id": "76ad26f5",
   "metadata": {},
   "outputs": [
    {
     "name": "stdout",
     "output_type": "stream",
     "text": [
      "13877\n"
     ]
    }
   ],
   "source": [
    "file_length('midterm.py')"
   ]
  },
  {
   "cell_type": "code",
   "execution_count": 67,
   "id": "af53748c",
   "metadata": {},
   "outputs": [
    {
     "ename": "FileNotFoundError",
     "evalue": "[Errno 2] No such file or directory: 'idterm.py'",
     "output_type": "error",
     "traceback": [
      "\u001b[1;31m---------------------------------------------------------------------------\u001b[0m",
      "\u001b[1;31mFileNotFoundError\u001b[0m                         Traceback (most recent call last)",
      "Cell \u001b[1;32mIn[67], line 1\u001b[0m\n\u001b[1;32m----> 1\u001b[0m file_length(\u001b[38;5;124m'\u001b[39m\u001b[38;5;124midterm.py\u001b[39m\u001b[38;5;124m'\u001b[39m)\n",
      "Cell \u001b[1;32mIn[65], line 2\u001b[0m, in \u001b[0;36mfile_length\u001b[1;34m(file_name)\u001b[0m\n\u001b[0;32m      1\u001b[0m \u001b[38;5;28;01mdef\u001b[39;00m \u001b[38;5;21mfile_length\u001b[39m(file_name):\n\u001b[1;32m----> 2\u001b[0m     file \u001b[38;5;241m=\u001b[39m \u001b[38;5;28mopen\u001b[39m(file_name)\n\u001b[0;32m      3\u001b[0m     contents \u001b[38;5;241m=\u001b[39m file\u001b[38;5;241m.\u001b[39mread()\n\u001b[0;32m      4\u001b[0m     file\u001b[38;5;241m.\u001b[39mclose()\n",
      "File \u001b[1;32m~\\anaconda3\\Lib\\site-packages\\IPython\\core\\interactiveshell.py:284\u001b[0m, in \u001b[0;36m_modified_open\u001b[1;34m(file, *args, **kwargs)\u001b[0m\n\u001b[0;32m    277\u001b[0m \u001b[38;5;28;01mif\u001b[39;00m file \u001b[38;5;129;01min\u001b[39;00m {\u001b[38;5;241m0\u001b[39m, \u001b[38;5;241m1\u001b[39m, \u001b[38;5;241m2\u001b[39m}:\n\u001b[0;32m    278\u001b[0m     \u001b[38;5;28;01mraise\u001b[39;00m \u001b[38;5;167;01mValueError\u001b[39;00m(\n\u001b[0;32m    279\u001b[0m         \u001b[38;5;124mf\u001b[39m\u001b[38;5;124m\"\u001b[39m\u001b[38;5;124mIPython won\u001b[39m\u001b[38;5;124m'\u001b[39m\u001b[38;5;124mt let you open fd=\u001b[39m\u001b[38;5;132;01m{\u001b[39;00mfile\u001b[38;5;132;01m}\u001b[39;00m\u001b[38;5;124m by default \u001b[39m\u001b[38;5;124m\"\u001b[39m\n\u001b[0;32m    280\u001b[0m         \u001b[38;5;124m\"\u001b[39m\u001b[38;5;124mas it is likely to crash IPython. If you know what you are doing, \u001b[39m\u001b[38;5;124m\"\u001b[39m\n\u001b[0;32m    281\u001b[0m         \u001b[38;5;124m\"\u001b[39m\u001b[38;5;124myou can use builtins\u001b[39m\u001b[38;5;124m'\u001b[39m\u001b[38;5;124m open.\u001b[39m\u001b[38;5;124m\"\u001b[39m\n\u001b[0;32m    282\u001b[0m     )\n\u001b[1;32m--> 284\u001b[0m \u001b[38;5;28;01mreturn\u001b[39;00m io_open(file, \u001b[38;5;241m*\u001b[39margs, \u001b[38;5;241m*\u001b[39m\u001b[38;5;241m*\u001b[39mkwargs)\n",
      "\u001b[1;31mFileNotFoundError\u001b[0m: [Errno 2] No such file or directory: 'idterm.py'"
     ]
    }
   ],
   "source": [
    "file_length('idterm.py')"
   ]
  },
  {
   "cell_type": "markdown",
   "id": "46dadf26",
   "metadata": {},
   "source": [
    "#### As shown above, if the file cannot be found by the interpreter or if it cannot be read as a text file, an exception will be raised. Modify function fileLength() so that a friendly message is printed instead:"
   ]
  },
  {
   "cell_type": "markdown",
   "id": "2bdbd193",
   "metadata": {},
   "source": [
    "## Answer 2 "
   ]
  },
  {
   "cell_type": "code",
   "execution_count": 32,
   "id": "c6ce2d49",
   "metadata": {},
   "outputs": [],
   "source": [
    "def file_length(file_name):\n",
    "    try:\n",
    "        file = open(file_name, 'r')  # Attempt to open the file in read mode\n",
    "        contents = file.read()       # Read the contents of the file\n",
    "        file.close()                 # Close the file\n",
    "        print(len(contents))         # Print the length of the contents\n",
    "    except FileNotFoundError:\n",
    "        print(f\"File {file_name} not found.\")"
   ]
  },
  {
   "cell_type": "code",
   "execution_count": 33,
   "id": "22868104",
   "metadata": {},
   "outputs": [
    {
     "name": "stdout",
     "output_type": "stream",
     "text": [
      "File idterm.py not found.\n"
     ]
    }
   ],
   "source": [
    "file_length('idterm.py')"
   ]
  },
  {
   "cell_type": "markdown",
   "id": "c33ee17f",
   "metadata": {},
   "source": [
    "## Question 3\n",
    "### Write a class named Marsupial that can be used as shown below:"
   ]
  },
  {
   "cell_type": "markdown",
   "id": "977af4a2",
   "metadata": {},
   "source": [
    "##### >>> m = Marsupial()\n",
    "##### >>> m.put_in_pouch('doll')\n",
    "##### >>> m.put_in_pouch('firetruck')\n",
    "##### >>> m.put_in_pouch('kitten')\n",
    "##### >>> m.pouch_contents()\n",
    "##### ['doll', 'firetruck', 'kitten']"
   ]
  },
  {
   "cell_type": "markdown",
   "id": "21d5094e",
   "metadata": {},
   "source": [
    "## Answer 3. 3.a,3.b,3.c"
   ]
  },
  {
   "cell_type": "code",
   "execution_count": 34,
   "id": "591969c2",
   "metadata": {},
   "outputs": [],
   "source": [
    "class Marsupial:\n",
    "    def __init__(self):\n",
    "        self.pouch = []  # Initialize an empty list for the pouch\n",
    "\n",
    "    def put_in_pouch(self, item):\n",
    "        self.pouch.append(item)  # Add the item to the pouch\n",
    "\n",
    "    def pouch_contents(self):\n",
    "        return self.pouch  # Return the list of items in the pouch\n"
   ]
  },
  {
   "cell_type": "code",
   "execution_count": 35,
   "id": "82844bc9",
   "metadata": {},
   "outputs": [],
   "source": [
    "# An __init__ constructor that accepts x and y coordinates.\n",
    "\n",
    "class Kangaroo(Marsupial):\n",
    "    def __init__(self, x, y):\n",
    "        super().__init__()  # Call the Marsupial's __init__ to initialize the pouch\n",
    "        self.x = x          # Initialize x-coordinate\n",
    "        self.y = y          # Initialize y-coordinate\n",
    "        \n",
    "# A jump method that updates the coordinates by dx and dy.\n",
    "\n",
    "    def jump(self, dx, dy):\n",
    "        self.x += dx        # Update x-coordinate\n",
    "        self.y += dy        # Update y-coordinate\n",
    "\n",
    "# An overloaded __str__ method to return the current position in a specific string format.\n",
    "\n",
    "    def __str__(self):\n",
    "        return f\"I am a Kangaroo located at coordinates ({self.x},{self.y})\""
   ]
  },
  {
   "cell_type": "markdown",
   "id": "5e009e19",
   "metadata": {},
   "source": [
    "## Answer 3. Expected behaviour "
   ]
  },
  {
   "cell_type": "code",
   "execution_count": 36,
   "id": "5b78faf5",
   "metadata": {},
   "outputs": [
    {
     "name": "stdout",
     "output_type": "stream",
     "text": [
      "I am a Kangaroo located at coordinates (0,0)\n"
     ]
    }
   ],
   "source": [
    "# Kangaroo subclass\n",
    "k = Kangaroo(0, 0)\n",
    "print(k) "
   ]
  },
  {
   "cell_type": "code",
   "execution_count": 37,
   "id": "257a2cfc",
   "metadata": {},
   "outputs": [
    {
     "data": {
      "text/plain": [
       "['doll', 'firetruck', 'kitten']"
      ]
     },
     "execution_count": 37,
     "metadata": {},
     "output_type": "execute_result"
    }
   ],
   "source": [
    "k.put_in_pouch('doll')\n",
    "k.put_in_pouch('firetruck')\n",
    "k.put_in_pouch('kitten')\n",
    "k.pouch_contents()"
   ]
  },
  {
   "cell_type": "code",
   "execution_count": 38,
   "id": "3dec9710",
   "metadata": {},
   "outputs": [
    {
     "name": "stdout",
     "output_type": "stream",
     "text": [
      "I am a Kangaroo located at coordinates (3,0)\n"
     ]
    }
   ],
   "source": [
    "k.jump(1,0)\n",
    "k.jump(1,0)\n",
    "k.jump(1,0)\n",
    "print(k)"
   ]
  },
  {
   "cell_type": "markdown",
   "id": "bcb0e810",
   "metadata": {},
   "source": [
    "## Question 4\n",
    "### Write function collatz() that takes a positive integer x as input and prints the Collatz sequence starting at x. A Collatz sequence is obtained by repeatedly applying this rule to the previous number x in the sequence: x = {x/2 if x is even and 3x+1 if x in odd} Your function should stop when the sequence gets to number 1. Your implementation must be recursive, without any loops."
   ]
  },
  {
   "cell_type": "markdown",
   "id": "5936ddcc",
   "metadata": {},
   "source": [
    "## Answer 4"
   ]
  },
  {
   "cell_type": "code",
   "execution_count": 39,
   "id": "c36814fa",
   "metadata": {},
   "outputs": [],
   "source": [
    "def collatz(x):\n",
    "    print(x)  # Print the current value of x\n",
    "    if x == 1:\n",
    "        return  # Base case: stop when x reaches 1\n",
    "    elif x % 2 == 0:\n",
    "        collatz(x // 2)  # Recursive case for even x\n",
    "    else:\n",
    "        collatz(3 * x + 1)  # Recursive case for odd x\n"
   ]
  },
  {
   "cell_type": "code",
   "execution_count": 40,
   "id": "b989cdb8",
   "metadata": {},
   "outputs": [
    {
     "name": "stdout",
     "output_type": "stream",
     "text": [
      "1\n"
     ]
    }
   ],
   "source": [
    "collatz(1)"
   ]
  },
  {
   "cell_type": "code",
   "execution_count": 41,
   "id": "20f6502e",
   "metadata": {},
   "outputs": [
    {
     "name": "stdout",
     "output_type": "stream",
     "text": [
      "10\n",
      "5\n",
      "16\n",
      "8\n",
      "4\n",
      "2\n",
      "1\n"
     ]
    }
   ],
   "source": [
    "collatz(10)"
   ]
  },
  {
   "cell_type": "markdown",
   "id": "41ce8743",
   "metadata": {},
   "source": [
    "## Question 5\n",
    "### Write a recursive method binary() that takes a non-negative integer n and prints the binary representation of integer n"
   ]
  },
  {
   "cell_type": "markdown",
   "id": "0218b316",
   "metadata": {},
   "source": [
    "## Answer 5"
   ]
  },
  {
   "cell_type": "code",
   "execution_count": 42,
   "id": "5c47181b",
   "metadata": {},
   "outputs": [],
   "source": [
    "def binary(n):\n",
    "    if n < 2:\n",
    "        print(n, end='')  # print the last digit (0 or 1) without newline\n",
    "    else:\n",
    "        binary(n // 2)    # Recursive call with n divided by 2\n",
    "        print(n % 2, end='')  # Print the remainder (0 or 1) after the recursive call\n"
   ]
  },
  {
   "cell_type": "code",
   "execution_count": 43,
   "id": "5bc79fc7",
   "metadata": {},
   "outputs": [
    {
     "name": "stdout",
     "output_type": "stream",
     "text": [
      "0"
     ]
    }
   ],
   "source": [
    "binary(0)"
   ]
  },
  {
   "cell_type": "code",
   "execution_count": 44,
   "id": "26faaf59",
   "metadata": {},
   "outputs": [
    {
     "name": "stdout",
     "output_type": "stream",
     "text": [
      "1"
     ]
    }
   ],
   "source": [
    "binary(1)"
   ]
  },
  {
   "cell_type": "code",
   "execution_count": 45,
   "id": "53d46752",
   "metadata": {},
   "outputs": [
    {
     "name": "stdout",
     "output_type": "stream",
     "text": [
      "11"
     ]
    }
   ],
   "source": [
    "binary(3)"
   ]
  },
  {
   "cell_type": "code",
   "execution_count": 46,
   "id": "357d3620",
   "metadata": {},
   "outputs": [
    {
     "name": "stdout",
     "output_type": "stream",
     "text": [
      "1001"
     ]
    }
   ],
   "source": [
    "binary(9)"
   ]
  },
  {
   "cell_type": "markdown",
   "id": "927f2552",
   "metadata": {},
   "source": [
    "## Question 6\n",
    "### Implement a class named HeadingParser that can be used to parse an HTML document, and retrieve and print all the headings in the document. You should implement your class as a subclass of HTMLParser, defined in Standard Library module html.parser. When fed a string containing HTML code, your class should print the headings, one per line and in the order in which they appear in the document. Each heading should be indented as follows: an h1 heading should have"
   ]
  },
  {
   "cell_type": "markdown",
   "id": "a84d8520",
   "metadata": {},
   "source": [
    "## Answer 6"
   ]
  },
  {
   "cell_type": "code",
   "execution_count": 47,
   "id": "b98d152b",
   "metadata": {},
   "outputs": [],
   "source": [
    "from html.parser import HTMLParser\n",
    "\n",
    "class HeadingParser(HTMLParser):\n",
    "    def __init__(self):\n",
    "        super().__init__()\n",
    "        self.in_heading = False  # Track if we're inside a heading tag\n",
    "        self.indentation_level = 0\n",
    "\n",
    "    def handle_starttag(self, tag, attrs):\n",
    "        # Check if the tag is a heading (h1, h2, ..., h6)\n",
    "        if tag in ['h1', 'h2', 'h3', 'h4', 'h5', 'h6']:\n",
    "            self.in_heading = True\n",
    "            self.indentation_level = int(tag[1]) - 1  # Calculate indentation level based on heading tag\n",
    "\n",
    "    def handle_endtag(self, tag):\n",
    "        if tag in ['h1', 'h2', 'h3', 'h4', 'h5', 'h6']:\n",
    "            self.in_heading = False  # Exit the heading tag\n",
    "\n",
    "    def handle_data(self, data):\n",
    "        if self.in_heading:\n",
    "            print(' ' * self.indentation_level + data.strip())  # Print heading with indentation\n"
   ]
  },
  {
   "cell_type": "code",
   "execution_count": 48,
   "id": "6b19178b",
   "metadata": {},
   "outputs": [
    {
     "name": "stdout",
     "output_type": "stream",
     "text": [
      "W3C Mission\n",
      " Principles\n"
     ]
    }
   ],
   "source": [
    "# Reading and parsing the w3c.html content\n",
    "infile = open('w3c.html')\n",
    "content = infile.read()\n",
    "infile.close()\n",
    "hp = HeadingParser()\n",
    "hp.feed(content)"
   ]
  },
  {
   "cell_type": "markdown",
   "id": "b849b839",
   "metadata": {},
   "source": [
    "## Question 7\n",
    "### Implement recursive function webdir() that takes as input: a URL (as a string) and non-negative integers depth and indent. Your function should visit every web page reachable from the starting URL web page in depth clicks or less, and print each web page's URL. As shown below, indentation, specified by indent, should be used to indicate the depth of a URL"
   ]
  },
  {
   "cell_type": "markdown",
   "id": "8fb75e5d",
   "metadata": {},
   "source": [
    "## Answer 7"
   ]
  },
  {
   "cell_type": "code",
   "execution_count": 49,
   "id": "0706f3f1",
   "metadata": {},
   "outputs": [],
   "source": [
    "from urllib.request import urlopen\n",
    "from urllib.parse import urljoin\n",
    "from html.parser import HTMLParser\n",
    "\n",
    "class Collector(HTMLParser):\n",
    "    def __init__(self, url):\n",
    "        super().__init__()\n",
    "        self.url = url\n",
    "        self.links = []\n",
    "    \n",
    "    def handle_starttag(self, tag, attrs):\n",
    "        if tag == \"a\":\n",
    "            for attr in attrs:\n",
    "                if attr[0] == \"href\":\n",
    "                    absolute = urljoin(self.url, attr[1])\n",
    "                    if absolute.startswith(\"http\"): \n",
    "                        self.links.append(absolute)\n",
    "    \n",
    "    def getLinks(self):\n",
    "        return self.links\n",
    "\n",
    "visited = set()\n",
    "\n",
    "def analyze(url):\n",
    "    try:\n",
    "        with urlopen(url) as response:\n",
    "            html = response.read().decode()\n",
    "            collector = Collector(url)\n",
    "            collector.feed(html)\n",
    "            return collector.getLinks()\n",
    "    except Exception as e:\n",
    "        print(f\"Error accessing {url}: {e}\")\n",
    "        return []\n",
    "\n",
    "def webdir(url, depth, indent):\n",
    "    global visited\n",
    "    if depth < 0 or url in visited:\n",
    "        return\n",
    "    \n",
    "    # Print the current URL with indentation\n",
    "    print(' ' * indent + url)\n",
    "    visited.add(url) \n",
    "    \n",
    "    links = analyze(url)\n",
    "    for link in links:\n",
    "        webdir(link, depth - 1, indent + 2)\n"
   ]
  },
  {
   "cell_type": "code",
   "execution_count": 50,
   "id": "45ddc8e4",
   "metadata": {},
   "outputs": [
    {
     "name": "stdout",
     "output_type": "stream",
     "text": [
      "http://reed.cs.depaul.edu/lperkovic/csc242/test1.html\n",
      "Error accessing http://reed.cs.depaul.edu/lperkovic/csc242/test1.html: HTTP Error 404: \n"
     ]
    }
   ],
   "source": [
    "webdir('http://reed.cs.depaul.edu/lperkovic/csc242/test1.html'\n",
    ", 2, 0)"
   ]
  },
  {
   "cell_type": "markdown",
   "id": "135f1741",
   "metadata": {},
   "source": [
    "## Question 8\n",
    "### Write SQL queries on the below database table that return: \n",
    "#### a) All the temperature data.\n",
    "#### b) All the cities, but without repetition.\n",
    "#### c) All the records for India.\n",
    "#### d) All the Fall records.\n",
    "#### e) The city, country, and season for which the average rainfall is between 200 and 400 millimeters.\n",
    "#### f) The city and country for which the average Fall temperature is above 20 degrees, in increasing temperature order.\n",
    "#### g) The total annual rainfall for Cairo.\n",
    "#### h) The total rainfall for each season"
   ]
  },
  {
   "cell_type": "markdown",
   "id": "e0a35cec",
   "metadata": {},
   "source": [
    "## Answer 8"
   ]
  },
  {
   "cell_type": "code",
   "execution_count": 2,
   "id": "bd3fe3c6",
   "metadata": {},
   "outputs": [],
   "source": [
    "%load_ext sql\n",
    "%sql sqlite:///ps2question8.db"
   ]
  },
  {
   "cell_type": "code",
   "execution_count": 3,
   "id": "e38f843e",
   "metadata": {},
   "outputs": [
    {
     "name": "stdout",
     "output_type": "stream",
     "text": [
      " * sqlite:///ps2question8.db\n",
      "Done.\n",
      "12 rows affected.\n"
     ]
    },
    {
     "data": {
      "text/plain": [
       "[]"
      ]
     },
     "execution_count": 3,
     "metadata": {},
     "output_type": "execute_result"
    }
   ],
   "source": [
    "%%sql\n",
    "CREATE TABLE various_cities\n",
    "(\n",
    "    City        varchar(20),\n",
    "    Country     varchar(20),\n",
    "    Season      varchar(15),\n",
    "    Temperature float,\n",
    "    Rainfall    float\n",
    ");\n",
    "\n",
    "INSERT INTO various_cities\n",
    "VALUES ('Mumbai', 'India', 'Winter', 24.8, 5.9),\n",
    "       ('Mumbai', 'India', 'Spring', 28.4, 16.2),\n",
    "       ('Mumbai', 'India', 'Summer', 27.9, 1549.4),\n",
    "       ('Mumbai', 'India', 'Fall', 27.6, 346.0),\n",
    "       ('London', 'United Kingdom', 'Winter', 4.2, 207.7),\n",
    "       ('London', 'United Kingdom', 'Spring', 8.3, 169.6),\n",
    "       ('London', 'United Kingdom', 'Summer', 15.7, 157.0),\n",
    "       ('London', 'United Kingdom', 'Fall', 10.4, 218.5),\n",
    "       ('Cairo', 'Egypt', 'Winter', 13.6, 16.5),\n",
    "       ('Cairo', 'Egypt', 'Spring', 20.7, 6.5),\n",
    "       ('Cairo', 'Egypt', 'Summer', 27.7, 0.1),\n",
    "       ('Cairo', 'Egypt', 'Fall', 22.2, 4.5);"
   ]
  },
  {
   "cell_type": "markdown",
   "id": "7ee0f976",
   "metadata": {},
   "source": [
    "## Answer 8.a All the temperature data."
   ]
  },
  {
   "cell_type": "code",
   "execution_count": 51,
   "id": "8270d8b3",
   "metadata": {},
   "outputs": [
    {
     "name": "stdout",
     "output_type": "stream",
     "text": [
      " * sqlite:///ps2question8.db\n",
      "Done.\n"
     ]
    },
    {
     "data": {
      "text/html": [
       "<table>\n",
       "    <thead>\n",
       "        <tr>\n",
       "            <th>Temperature</th>\n",
       "        </tr>\n",
       "    </thead>\n",
       "    <tbody>\n",
       "        <tr>\n",
       "            <td>24.8</td>\n",
       "        </tr>\n",
       "        <tr>\n",
       "            <td>28.4</td>\n",
       "        </tr>\n",
       "        <tr>\n",
       "            <td>27.9</td>\n",
       "        </tr>\n",
       "        <tr>\n",
       "            <td>27.6</td>\n",
       "        </tr>\n",
       "        <tr>\n",
       "            <td>4.2</td>\n",
       "        </tr>\n",
       "        <tr>\n",
       "            <td>8.3</td>\n",
       "        </tr>\n",
       "        <tr>\n",
       "            <td>15.7</td>\n",
       "        </tr>\n",
       "        <tr>\n",
       "            <td>10.4</td>\n",
       "        </tr>\n",
       "        <tr>\n",
       "            <td>13.6</td>\n",
       "        </tr>\n",
       "        <tr>\n",
       "            <td>20.7</td>\n",
       "        </tr>\n",
       "        <tr>\n",
       "            <td>27.7</td>\n",
       "        </tr>\n",
       "        <tr>\n",
       "            <td>22.2</td>\n",
       "        </tr>\n",
       "    </tbody>\n",
       "</table>"
      ],
      "text/plain": [
       "[(24.8,),\n",
       " (28.4,),\n",
       " (27.9,),\n",
       " (27.6,),\n",
       " (4.2,),\n",
       " (8.3,),\n",
       " (15.7,),\n",
       " (10.4,),\n",
       " (13.6,),\n",
       " (20.7,),\n",
       " (27.7,),\n",
       " (22.2,)]"
      ]
     },
     "execution_count": 51,
     "metadata": {},
     "output_type": "execute_result"
    }
   ],
   "source": [
    "%%sql\n",
    "\n",
    "SELECT Temperature\n",
    "FROM various_cities;"
   ]
  },
  {
   "cell_type": "markdown",
   "id": "5a1fb36c",
   "metadata": {},
   "source": [
    "## Answer 8.b All the cities, but without repetition."
   ]
  },
  {
   "cell_type": "code",
   "execution_count": 52,
   "id": "e59b9331",
   "metadata": {},
   "outputs": [
    {
     "name": "stdout",
     "output_type": "stream",
     "text": [
      " * sqlite:///ps2question8.db\n",
      "Done.\n"
     ]
    },
    {
     "data": {
      "text/html": [
       "<table>\n",
       "    <thead>\n",
       "        <tr>\n",
       "            <th>City</th>\n",
       "        </tr>\n",
       "    </thead>\n",
       "    <tbody>\n",
       "        <tr>\n",
       "            <td>Mumbai</td>\n",
       "        </tr>\n",
       "        <tr>\n",
       "            <td>London</td>\n",
       "        </tr>\n",
       "        <tr>\n",
       "            <td>Cairo</td>\n",
       "        </tr>\n",
       "    </tbody>\n",
       "</table>"
      ],
      "text/plain": [
       "[('Mumbai',), ('London',), ('Cairo',)]"
      ]
     },
     "execution_count": 52,
     "metadata": {},
     "output_type": "execute_result"
    }
   ],
   "source": [
    "%%sql\n",
    "\n",
    "SELECT DISTINCT(city)\n",
    "FROM various_cities;"
   ]
  },
  {
   "cell_type": "markdown",
   "id": "783a4959",
   "metadata": {},
   "source": [
    "## Answer 8.c All the records for India."
   ]
  },
  {
   "cell_type": "code",
   "execution_count": 53,
   "id": "fac3dc7d",
   "metadata": {},
   "outputs": [
    {
     "name": "stdout",
     "output_type": "stream",
     "text": [
      " * sqlite:///ps2question8.db\n",
      "Done.\n"
     ]
    },
    {
     "data": {
      "text/html": [
       "<table>\n",
       "    <thead>\n",
       "        <tr>\n",
       "            <th>City</th>\n",
       "            <th>Country</th>\n",
       "            <th>Season</th>\n",
       "            <th>Temperature</th>\n",
       "            <th>Rainfall</th>\n",
       "        </tr>\n",
       "    </thead>\n",
       "    <tbody>\n",
       "        <tr>\n",
       "            <td>Mumbai</td>\n",
       "            <td>India</td>\n",
       "            <td>Winter</td>\n",
       "            <td>24.8</td>\n",
       "            <td>5.9</td>\n",
       "        </tr>\n",
       "        <tr>\n",
       "            <td>Mumbai</td>\n",
       "            <td>India</td>\n",
       "            <td>Spring</td>\n",
       "            <td>28.4</td>\n",
       "            <td>16.2</td>\n",
       "        </tr>\n",
       "        <tr>\n",
       "            <td>Mumbai</td>\n",
       "            <td>India</td>\n",
       "            <td>Summer</td>\n",
       "            <td>27.9</td>\n",
       "            <td>1549.4</td>\n",
       "        </tr>\n",
       "        <tr>\n",
       "            <td>Mumbai</td>\n",
       "            <td>India</td>\n",
       "            <td>Fall</td>\n",
       "            <td>27.6</td>\n",
       "            <td>346.0</td>\n",
       "        </tr>\n",
       "    </tbody>\n",
       "</table>"
      ],
      "text/plain": [
       "[('Mumbai', 'India', 'Winter', 24.8, 5.9),\n",
       " ('Mumbai', 'India', 'Spring', 28.4, 16.2),\n",
       " ('Mumbai', 'India', 'Summer', 27.9, 1549.4),\n",
       " ('Mumbai', 'India', 'Fall', 27.6, 346.0)]"
      ]
     },
     "execution_count": 53,
     "metadata": {},
     "output_type": "execute_result"
    }
   ],
   "source": [
    "%%sql\n",
    "\n",
    "SELECT *\n",
    "FROM various_cities\n",
    "WHERE country = 'India';"
   ]
  },
  {
   "cell_type": "markdown",
   "id": "4dcbccf7",
   "metadata": {},
   "source": [
    "## Answer 8.d All the Fall records"
   ]
  },
  {
   "cell_type": "code",
   "execution_count": 54,
   "id": "b6a368d0",
   "metadata": {},
   "outputs": [
    {
     "name": "stdout",
     "output_type": "stream",
     "text": [
      " * sqlite:///ps2question8.db\n",
      "Done.\n"
     ]
    },
    {
     "data": {
      "text/html": [
       "<table>\n",
       "    <thead>\n",
       "        <tr>\n",
       "            <th>City</th>\n",
       "            <th>Country</th>\n",
       "            <th>Season</th>\n",
       "            <th>Temperature</th>\n",
       "            <th>Rainfall</th>\n",
       "        </tr>\n",
       "    </thead>\n",
       "    <tbody>\n",
       "        <tr>\n",
       "            <td>Mumbai</td>\n",
       "            <td>India</td>\n",
       "            <td>Fall</td>\n",
       "            <td>27.6</td>\n",
       "            <td>346.0</td>\n",
       "        </tr>\n",
       "        <tr>\n",
       "            <td>London</td>\n",
       "            <td>United Kingdom</td>\n",
       "            <td>Fall</td>\n",
       "            <td>10.4</td>\n",
       "            <td>218.5</td>\n",
       "        </tr>\n",
       "        <tr>\n",
       "            <td>Cairo</td>\n",
       "            <td>Egypt</td>\n",
       "            <td>Fall</td>\n",
       "            <td>22.2</td>\n",
       "            <td>4.5</td>\n",
       "        </tr>\n",
       "    </tbody>\n",
       "</table>"
      ],
      "text/plain": [
       "[('Mumbai', 'India', 'Fall', 27.6, 346.0),\n",
       " ('London', 'United Kingdom', 'Fall', 10.4, 218.5),\n",
       " ('Cairo', 'Egypt', 'Fall', 22.2, 4.5)]"
      ]
     },
     "execution_count": 54,
     "metadata": {},
     "output_type": "execute_result"
    }
   ],
   "source": [
    "\n",
    "%%sql\n",
    "\n",
    "SELECT *\n",
    "FROM various_cities\n",
    "WHERE season = 'Fall';"
   ]
  },
  {
   "cell_type": "markdown",
   "id": "5fa5ac48",
   "metadata": {},
   "source": [
    "## Answer 8.e The city, country, and season for which the average rainfall is between 200 and 400 millimeters."
   ]
  },
  {
   "cell_type": "code",
   "execution_count": 55,
   "id": "f8715c50",
   "metadata": {},
   "outputs": [
    {
     "name": "stdout",
     "output_type": "stream",
     "text": [
      " * sqlite:///ps2question8.db\n",
      "Done.\n"
     ]
    },
    {
     "data": {
      "text/html": [
       "<table>\n",
       "    <thead>\n",
       "        <tr>\n",
       "            <th>City</th>\n",
       "            <th>Country</th>\n",
       "            <th>Season</th>\n",
       "            <th>Rainfall</th>\n",
       "        </tr>\n",
       "    </thead>\n",
       "    <tbody>\n",
       "        <tr>\n",
       "            <td>Mumbai</td>\n",
       "            <td>India</td>\n",
       "            <td>Fall</td>\n",
       "            <td>346.0</td>\n",
       "        </tr>\n",
       "        <tr>\n",
       "            <td>London</td>\n",
       "            <td>United Kingdom</td>\n",
       "            <td>Winter</td>\n",
       "            <td>207.7</td>\n",
       "        </tr>\n",
       "        <tr>\n",
       "            <td>London</td>\n",
       "            <td>United Kingdom</td>\n",
       "            <td>Fall</td>\n",
       "            <td>218.5</td>\n",
       "        </tr>\n",
       "    </tbody>\n",
       "</table>"
      ],
      "text/plain": [
       "[('Mumbai', 'India', 'Fall', 346.0),\n",
       " ('London', 'United Kingdom', 'Winter', 207.7),\n",
       " ('London', 'United Kingdom', 'Fall', 218.5)]"
      ]
     },
     "execution_count": 55,
     "metadata": {},
     "output_type": "execute_result"
    }
   ],
   "source": [
    "%%sql\n",
    "\n",
    "SELECT city, country, season, rainfall\n",
    "FROM various_cities\n",
    "WHERE rainfall BETWEEN 200 AND 400;"
   ]
  },
  {
   "cell_type": "markdown",
   "id": "8f497d67",
   "metadata": {},
   "source": [
    "## Answer 8.f The city and country for which the average Fall temperature is above 20 degrees, in increasing temperature order."
   ]
  },
  {
   "cell_type": "code",
   "execution_count": 56,
   "id": "ecc8c66b",
   "metadata": {},
   "outputs": [
    {
     "name": "stdout",
     "output_type": "stream",
     "text": [
      " * sqlite:///ps2question8.db\n",
      "Done.\n"
     ]
    },
    {
     "data": {
      "text/html": [
       "<table>\n",
       "    <thead>\n",
       "        <tr>\n",
       "            <th>City</th>\n",
       "            <th>Country</th>\n",
       "        </tr>\n",
       "    </thead>\n",
       "    <tbody>\n",
       "        <tr>\n",
       "            <td>Cairo</td>\n",
       "            <td>Egypt</td>\n",
       "        </tr>\n",
       "        <tr>\n",
       "            <td>Mumbai</td>\n",
       "            <td>India</td>\n",
       "        </tr>\n",
       "    </tbody>\n",
       "</table>"
      ],
      "text/plain": [
       "[('Cairo', 'Egypt'), ('Mumbai', 'India')]"
      ]
     },
     "execution_count": 56,
     "metadata": {},
     "output_type": "execute_result"
    }
   ],
   "source": [
    "%%sql\n",
    "\n",
    "SELECT city, country\n",
    "FROM various_cities\n",
    "WHERE season = 'Fall' AND temperature > 20\n",
    "ORDER BY temperature ASC;"
   ]
  },
  {
   "cell_type": "markdown",
   "id": "b5c64243",
   "metadata": {},
   "source": [
    "## Answer 8.g The total annual rainfall for Cairo."
   ]
  },
  {
   "cell_type": "code",
   "execution_count": 57,
   "id": "204d66a1",
   "metadata": {},
   "outputs": [
    {
     "name": "stdout",
     "output_type": "stream",
     "text": [
      " * sqlite:///ps2question8.db\n",
      "Done.\n"
     ]
    },
    {
     "data": {
      "text/html": [
       "<table>\n",
       "    <thead>\n",
       "        <tr>\n",
       "            <th>City</th>\n",
       "            <th>Total_Annual_Rainfall</th>\n",
       "        </tr>\n",
       "    </thead>\n",
       "    <tbody>\n",
       "        <tr>\n",
       "            <td>Cairo</td>\n",
       "            <td>27.6</td>\n",
       "        </tr>\n",
       "    </tbody>\n",
       "</table>"
      ],
      "text/plain": [
       "[('Cairo', 27.6)]"
      ]
     },
     "execution_count": 57,
     "metadata": {},
     "output_type": "execute_result"
    }
   ],
   "source": [
    "%%sql\n",
    "\n",
    "SELECT city, sum(rainfall) AS Total_Annual_Rainfall\n",
    "FROM various_cities\n",
    "WHERE city = 'Cairo';"
   ]
  },
  {
   "cell_type": "markdown",
   "id": "09d347f6",
   "metadata": {},
   "source": [
    "## Answer 8.h All the temperature data."
   ]
  },
  {
   "cell_type": "code",
   "execution_count": 58,
   "id": "ae13f160",
   "metadata": {},
   "outputs": [
    {
     "name": "stdout",
     "output_type": "stream",
     "text": [
      " * sqlite:///ps2question8.db\n",
      "Done.\n"
     ]
    },
    {
     "data": {
      "text/html": [
       "<table>\n",
       "    <thead>\n",
       "        <tr>\n",
       "            <th>Season</th>\n",
       "            <th>Total_Rainfall</th>\n",
       "        </tr>\n",
       "    </thead>\n",
       "    <tbody>\n",
       "        <tr>\n",
       "            <td>Fall</td>\n",
       "            <td>570.0</td>\n",
       "        </tr>\n",
       "        <tr>\n",
       "            <td>Spring</td>\n",
       "            <td>193.0</td>\n",
       "        </tr>\n",
       "        <tr>\n",
       "            <td>Summer</td>\n",
       "            <td>1706.0</td>\n",
       "        </tr>\n",
       "        <tr>\n",
       "            <td>Winter</td>\n",
       "            <td>231.0</td>\n",
       "        </tr>\n",
       "    </tbody>\n",
       "</table>"
      ],
      "text/plain": [
       "[('Fall', 570.0), ('Spring', 193.0), ('Summer', 1706.0), ('Winter', 231.0)]"
      ]
     },
     "execution_count": 58,
     "metadata": {},
     "output_type": "execute_result"
    }
   ],
   "source": [
    "%%sql\n",
    "\n",
    "SELECT season, sum(round(rainfall)) AS Total_Rainfall\n",
    "FROM various_cities\n",
    "GROUP BY season;"
   ]
  },
  {
   "cell_type": "markdown",
   "id": "203996d3",
   "metadata": {},
   "source": [
    "## Question 9\n",
    "### Suppose list words is defined as follows: "
   ]
  },
  {
   "cell_type": "code",
   "execution_count": 59,
   "id": "3b411a4b",
   "metadata": {},
   "outputs": [],
   "source": [
    "words = ['The ', 'quick', 'brown', 'fox', 'jumps', 'over','the', 'lazy', 'dog']"
   ]
  },
  {
   "cell_type": "markdown",
   "id": "523c73ed",
   "metadata": {},
   "source": [
    "### Write list comprehension expressions that use list words and generate the following lists:"
   ]
  },
  {
   "cell_type": "markdown",
   "id": "f4352e4c",
   "metadata": {},
   "source": [
    "## Answer 9.a Convert all words to uppercase."
   ]
  },
  {
   "cell_type": "code",
   "execution_count": 60,
   "id": "9251de11",
   "metadata": {},
   "outputs": [
    {
     "name": "stdout",
     "output_type": "stream",
     "text": [
      "['THE ', 'QUICK', 'BROWN', 'FOX', 'JUMPS', 'OVER', 'THE', 'LAZY', 'DOG']\n"
     ]
    }
   ],
   "source": [
    "upper_words = [word.upper() for word in words]\n",
    "print(upper_words)"
   ]
  },
  {
   "cell_type": "markdown",
   "id": "7a90d488",
   "metadata": {},
   "source": [
    "## Answer 9.b Convert all words to lowercase."
   ]
  },
  {
   "cell_type": "code",
   "execution_count": 61,
   "id": "2c1f7a11",
   "metadata": {},
   "outputs": [
    {
     "name": "stdout",
     "output_type": "stream",
     "text": [
      "['the ', 'quick', 'brown', 'fox', 'jumps', 'over', 'the', 'lazy', 'dog']\n"
     ]
    }
   ],
   "source": [
    "lower_words = [word.lower() for word in words]\n",
    "print(lower_words)"
   ]
  },
  {
   "cell_type": "markdown",
   "id": "0ffcbc5b",
   "metadata": {},
   "source": [
    "## Answer 9.c (the list of lengths of words in list words)"
   ]
  },
  {
   "cell_type": "code",
   "execution_count": 62,
   "id": "ad558611",
   "metadata": {},
   "outputs": [
    {
     "name": "stdout",
     "output_type": "stream",
     "text": [
      "[4, 5, 5, 3, 5, 4, 3, 4, 3]\n"
     ]
    }
   ],
   "source": [
    "word_lengths = [len(word) for word in words]\n",
    "print(word_lengths)"
   ]
  },
  {
   "cell_type": "markdown",
   "id": "59a5b383",
   "metadata": {},
   "source": [
    "## Answer 9.d the list containing a list for every word of list words, where each list contains the word in uppercase and lowercase and the length of the word."
   ]
  },
  {
   "cell_type": "code",
   "execution_count": 63,
   "id": "fb3f1864",
   "metadata": {},
   "outputs": [
    {
     "name": "stdout",
     "output_type": "stream",
     "text": [
      "[['THE ', 'the ', 4], ['QUICK', 'quick', 5], ['BROWN', 'brown', 5], ['FOX', 'fox', 3], ['JUMPS', 'jumps', 5], ['OVER', 'over', 4], ['THE', 'the', 3], ['LAZY', 'lazy', 4], ['DOG', 'dog', 3]]\n"
     ]
    }
   ],
   "source": [
    "word_details = [[word.upper(), word.lower(), len(word)] for word in words]\n",
    "print(word_details)"
   ]
  },
  {
   "cell_type": "markdown",
   "id": "0916ec9e",
   "metadata": {},
   "source": [
    "## Answer 9.e the list of words in list words containing 4 or more characters"
   ]
  },
  {
   "cell_type": "code",
   "execution_count": 64,
   "id": "26ada563",
   "metadata": {},
   "outputs": [
    {
     "name": "stdout",
     "output_type": "stream",
     "text": [
      "['The ', 'quick', 'brown', 'jumps', 'over', 'lazy']\n"
     ]
    }
   ],
   "source": [
    "long_words = [word for word in words if len(word) >= 4]\n",
    "print(long_words)"
   ]
  },
  {
   "cell_type": "code",
   "execution_count": null,
   "id": "f8a7983e",
   "metadata": {},
   "outputs": [],
   "source": []
  }
 ],
 "metadata": {
  "kernelspec": {
   "display_name": "Python 3 (ipykernel)",
   "language": "python",
   "name": "python3"
  },
  "language_info": {
   "codemirror_mode": {
    "name": "ipython",
    "version": 3
   },
   "file_extension": ".py",
   "mimetype": "text/x-python",
   "name": "python",
   "nbconvert_exporter": "python",
   "pygments_lexer": "ipython3",
   "version": "3.11.4"
  }
 },
 "nbformat": 4,
 "nbformat_minor": 5
}
